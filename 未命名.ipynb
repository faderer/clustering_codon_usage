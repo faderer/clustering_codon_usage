{
 "cells": [
  {
   "cell_type": "code",
   "execution_count": 44,
   "metadata": {},
   "outputs": [
    {
     "data": {
      "text/plain": [
       "9"
      ]
     },
     "execution_count": 44,
     "metadata": {},
     "output_type": "execute_result"
    }
   ],
   "source": [
    "import pandas as pd\n",
    "from numpy import *\n",
    "from sklearn.cluster import KMeans, Birch\n",
    "\n",
    "# # for i in range(1, 11):\n",
    "# frames = []\n",
    "# for j in range(1, 1):\n",
    "#     frames.append(pd.read_csv('data' + str(j) + '.csv'))\n",
    "# for j in range(1 + 1, 11):\n",
    "#     frames.append(pd.read_csv('data' + str(j) + '.csv'))\n",
    "# len(frames)"
   ]
  },
  {
   "cell_type": "code",
   "execution_count": null,
   "metadata": {},
   "outputs": [],
   "source": []
  }
 ],
 "metadata": {
  "kernelspec": {
   "display_name": "Python 3",
   "language": "python",
   "name": "python3"
  },
  "language_info": {
   "codemirror_mode": {
    "name": "ipython",
    "version": 3
   },
   "file_extension": ".py",
   "mimetype": "text/x-python",
   "name": "python",
   "nbconvert_exporter": "python",
   "pygments_lexer": "ipython3",
   "version": "3.8.3"
  }
 },
 "nbformat": 4,
 "nbformat_minor": 4
}
